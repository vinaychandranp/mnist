{
 "cells": [
  {
   "cell_type": "code",
   "execution_count": 6,
   "metadata": {
    "collapsed": false
   },
   "outputs": [],
   "source": [
    "import seaborn\n",
    "import pickle\n",
    "import numpy as np\n",
    "from matplotlib import pyplot as plt\n"
   ]
  },
  {
   "cell_type": "code",
   "execution_count": 7,
   "metadata": {
    "collapsed": false
   },
   "outputs": [],
   "source": [
    "(global_heatmap, heatmaps) = pickle.load(open('heatmaps.p','rb'))"
   ]
  },
  {
   "cell_type": "code",
   "execution_count": 8,
   "metadata": {
    "collapsed": false
   },
   "outputs": [],
   "source": [
    "fig, ax = plt.subplots()\n",
    "ax.set_title('Global Heatmap')\n",
    "seaborn.heatmap(global_heatmap)\n",
    "fig.savefig('global_histogram.eps',format='eps',dpi=1000, bbox_inches='tight')"
   ]
  },
  {
   "cell_type": "code",
   "execution_count": 19,
   "metadata": {
    "collapsed": false
   },
   "outputs": [
    {
     "data": {
      "text/plain": [
       "393"
      ]
     },
     "execution_count": 19,
     "metadata": {},
     "output_type": "execute_result"
    }
   ],
   "source": [
    "vmax = int(max([x for x in np.nditer(heatmaps)]))"
   ]
  },
  {
   "cell_type": "code",
   "execution_count": 20,
   "metadata": {
    "collapsed": false
   },
   "outputs": [],
   "source": [
    "plt.close('all')\n",
    "fig, ((ax0,ax1),(ax2,ax3),(ax4,ax5),(ax6,ax7),(ax8,ax9)) = plt.subplots(nrows=5,ncols=2)\n",
    "seaborn.heatmap(heatmaps[0], vmax=vmax, ax=ax0)\n",
    "seaborn.heatmap(heatmaps[1], vmax=vmax, ax=ax1)\n",
    "seaborn.heatmap(heatmaps[2], vmax=vmax, ax=ax2)\n",
    "seaborn.heatmap(heatmaps[3], vmax=vmax, ax=ax3)\n",
    "seaborn.heatmap(heatmaps[4], vmax=vmax, ax=ax4)\n",
    "seaborn.heatmap(heatmaps[5], vmax=vmax, ax=ax5)\n",
    "seaborn.heatmap(heatmaps[6], vmax=vmax, ax=ax6)\n",
    "seaborn.heatmap(heatmaps[7], vmax=vmax, ax=ax7)\n",
    "seaborn.heatmap(heatmaps[8], vmax=vmax, ax=ax8)\n",
    "seaborn.heatmap(heatmaps[9], vmax=vmax, ax=ax9)\n",
    "ax0.set_title('Cluster 0')\n",
    "ax1.set_title('Cluster 1')\n",
    "ax2.set_title('Cluster 2')\n",
    "ax3.set_title('Cluster 3')\n",
    "ax4.set_title('Cluster 4')\n",
    "ax5.set_title('Cluster 5')\n",
    "ax6.set_title('Cluster 6')\n",
    "ax7.set_title('Cluster 7')\n",
    "ax8.set_title('Cluster 8')\n",
    "ax9.set_title('Cluster 9')\n",
    "fig.tight_layout(pad=0.5)\n",
    "fig.set_size_inches(10, 20)\n",
    "fig.savefig('heatmaps.eps',format='eps',dpi=200, bbox_inches='tight')\n",
    "    "
   ]
  },
  {
   "cell_type": "code",
   "execution_count": null,
   "metadata": {
    "collapsed": true
   },
   "outputs": [],
   "source": []
  }
 ],
 "metadata": {
  "kernelspec": {
   "display_name": "Python 2",
   "language": "python",
   "name": "python2"
  },
  "language_info": {
   "codemirror_mode": {
    "name": "ipython",
    "version": 2
   },
   "file_extension": ".py",
   "mimetype": "text/x-python",
   "name": "python",
   "nbconvert_exporter": "python",
   "pygments_lexer": "ipython2",
   "version": "2.7.11"
  }
 },
 "nbformat": 4,
 "nbformat_minor": 0
}
